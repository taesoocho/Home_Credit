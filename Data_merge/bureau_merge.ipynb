{
 "cells": [
  {
   "cell_type": "code",
   "execution_count": 3,
   "metadata": {},
   "outputs": [],
   "source": [
    "import pandas as pd\n",
    "import numpy as np\n",
    "\n",
    "pd.options.display.float_format = '{:.5f}'.format"
   ]
  },
  {
   "cell_type": "code",
   "execution_count": 4,
   "metadata": {},
   "outputs": [],
   "source": [
    "bureau_df = pd.read_csv('bureau.csv')\n",
    "bureau_b_df = pd.read_csv('bureau_balance.csv')"
   ]
  },
  {
   "cell_type": "code",
   "execution_count": 5,
   "metadata": {},
   "outputs": [],
   "source": [
    "Recent_Balance = bureau_b_df.groupby('SK_ID_BUREAU')['MONTHS_BALANCE'].first()\n",
    "Transaction_Period = abs(bureau_b_df.groupby('SK_ID_BUREAU')['MONTHS_BALANCE'].last() - bureau_b_df.groupby('SK_ID_BUREAU')['MONTHS_BALANCE'].first())\n",
    "Recent_Status = bureau_b_df.groupby('SK_ID_BUREAU')['STATUS'].first()\n",
    "mode_status = bureau_b_df.groupby('SK_ID_BUREAU')['STATUS'].apply(lambda x : x.mode()[0])\n",
    "\n",
    "bureau_b_pre = pd.concat([Recent_Balance, Transaction_Period, Recent_Status, mode_status], axis = 1)\n",
    "bureau_b_pre.columns = ['RECENT_BALANCE', 'TRANSACTION_PERIOD', 'RECENT_STATUS', 'MODE_STATUS']\n",
    "bureau_b_pre = bureau_b_pre.reset_index()\n",
    "bureau_b_pre.to_csv('bureau_b_pre.csv')"
   ]
  },
  {
   "cell_type": "code",
   "execution_count": 6,
   "metadata": {},
   "outputs": [],
   "source": [
    "merge_bureau = pd.merge(bureau_df, bureau_b_pre, on = 'SK_ID_BUREAU', how = 'left')"
   ]
  },
  {
   "cell_type": "code",
   "execution_count": 7,
   "metadata": {},
   "outputs": [],
   "source": [
    "def object_pre (df) :\n",
    "    \n",
    "    pk_id = sorted(list(df['SK_ID_CURR'].unique()))\n",
    "    first_id = []\n",
    "    mode_id = []\n",
    "    object_col_first = []\n",
    "    object_col_mode = []\n",
    "\n",
    "    for col in df:\n",
    "        if df[col].dtype == 'object':\n",
    "            first_id.append(col+'_FIRST')\n",
    "            mode_id.append(col+'_MODE')\n",
    "            print(col)\n",
    "            object_col_first.append(list(df.groupby('SK_ID_CURR')[col].first()))\n",
    "            object_col_mode.append(list(df.groupby('SK_ID_CURR')[col].apply(lambda x : x.mode()[0])))\n",
    "\n",
    "    object_col_first_df = pd.DataFrame(object_col_first).transpose()\n",
    "    object_col_mode_df = pd.DataFrame(object_col_mode).transpose()   \n",
    "\n",
    "    object_col_first_df.columns = [first_id]\n",
    "    object_col_mode_df.columns = [mode_id]\n",
    "    return pk_id, object_col_first_df, object_col_mode_df"
   ]
  },
  {
   "cell_type": "code",
   "execution_count": 8,
   "metadata": {},
   "outputs": [
    {
     "name": "stdout",
     "output_type": "stream",
     "text": [
      "CREDIT_ACTIVE\n",
      "CREDIT_CURRENCY\n",
      "CREDIT_TYPE\n",
      "RECENT_STATUS\n",
      "MODE_STATUS\n"
     ]
    }
   ],
   "source": [
    "temp_merge_bureau = merge_bureau.copy()\n",
    "\n",
    "for col in temp_merge_bureau:\n",
    "    if temp_merge_bureau[col].dtype == 'object':\n",
    "        temp_merge_bureau[col] = temp_merge_bureau[col].fillna('NULL')\n",
    "\n",
    "pk_id, object_col_first, object_col_mode = object_pre(temp_merge_bureau)\n",
    "\n",
    "merge_obj_df = pd.concat([object_col_first, object_col_mode], axis = 1)\n",
    "merge_obj_df.index = pk_id\n",
    "merge_obj_df = merge_obj_df.reset_index()\n",
    "merge_obj_df = merge_obj_df.rename(columns={'index':'SK_ID_CURR'})\n",
    "merge_obj_df = merge_obj_df.replace('NULL', np.nan)\n",
    "\n",
    "merge_obj_df.columns = ['SK_ID_CURR', 'CREDIT_ACTIVE_FIRST', 'CREDIT_CURRENCY_FIRST', 'CREDIT_TYPE_FIRST', \\\n",
    "                        'RECENT_STATUS_FIRST', 'MODE_STATUS_FIRST', 'CREDIT_ACTIVE_MODE', 'CREDIT_CURRENCY_MODE', \\\n",
    "                        'CREDIT_TYPE_MODE', 'RECENT_STATUS_MODE', 'MODE_STATUS_MODE']\n",
    "\n",
    "level_0 = ['SK_ID_BUREAU', 'DAYS_CREDIT', 'CREDIT_DAY_OVERDUE', 'DAYS_CREDIT_ENDDATE', 'DAYS_ENDDATE_FACT', \\\n",
    "    'AMT_CREDIT_MAX_OVERDUE', 'CNT_CREDIT_PROLONG', 'AMT_CREDIT_SUM', 'AMT_CREDIT_SUM_DEBT', 'AMT_CREDIT_SUM_LIMIT', \\\n",
    "        'AMT_CREDIT_SUM_OVERDUE', 'DAYS_CREDIT_UPDATE', 'AMT_ANNUITY', 'Recent_Balance', 'Transaction_Period']\n",
    "level_1 = ['_MEAN', '_MEDIAN', '_STD', '_FIRST']\n",
    "\n",
    "col_names = []\n",
    "for name1 in level_0 :\n",
    "    for name2 in level_1 :\n",
    "        col_names.append(name1+name2)\n",
    "\n",
    "merge_real_num_df = pd.DataFrame(merge_bureau.groupby('SK_ID_CURR').agg(['mean','median','std','first']))\n",
    "merge_real_num_df.reset_index(drop = True, inplace = True)\n",
    "merge_real_num_df.columns = merge_real_num_df.columns.droplevel(0)\n",
    "\n",
    "merge_real_num_df.columns = col_names"
   ]
  },
  {
   "cell_type": "code",
   "execution_count": 9,
   "metadata": {},
   "outputs": [],
   "source": [
    "total_bureau_df = pd.concat([merge_obj_df, merge_real_num_df], axis = 1)\n",
    "total_bureau_df.to_csv('bureau_merge.csv')"
   ]
  }
 ],
 "metadata": {
  "interpreter": {
   "hash": "73407dee87cc73a13fe6a424f5d316f883ddf267c66cfaad22110334c7428349"
  },
  "kernelspec": {
   "display_name": "Python 3.8.12 ('dev_project')",
   "language": "python",
   "name": "python3"
  },
  "language_info": {
   "codemirror_mode": {
    "name": "ipython",
    "version": 3
   },
   "file_extension": ".py",
   "mimetype": "text/x-python",
   "name": "python",
   "nbconvert_exporter": "python",
   "pygments_lexer": "ipython3",
   "version": "3.8.12"
  },
  "orig_nbformat": 4
 },
 "nbformat": 4,
 "nbformat_minor": 2
}
