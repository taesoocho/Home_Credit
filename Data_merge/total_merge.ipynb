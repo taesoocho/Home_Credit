{
 "cells": [
  {
   "cell_type": "code",
   "execution_count": 3,
   "metadata": {},
   "outputs": [],
   "source": [
    "import pandas as pd\n",
    "import numpy as np\n",
    "import warnings\n",
    "\n",
    "pd.set_option('display.max_row', 500)\n",
    "pd.set_option('display.max_columns', 100)\n",
    "\n",
    "warnings.filterwarnings(action='ignore')"
   ]
  },
  {
   "cell_type": "code",
   "execution_count": 4,
   "metadata": {},
   "outputs": [],
   "source": [
    "application_train_df = pd.read_csv('application_train.csv')\n",
    "application_test_df = pd.read_csv('application_test.csv')"
   ]
  },
  {
   "cell_type": "code",
   "execution_count": 5,
   "metadata": {},
   "outputs": [],
   "source": [
    "target = application_train_df['TARGET']\n",
    "application_train_df = application_train_df.drop(['TARGET'], axis = 1)\n",
    "dataset = pd.concat([application_train_df, application_test_df])"
   ]
  },
  {
   "cell_type": "code",
   "execution_count": 6,
   "metadata": {},
   "outputs": [],
   "source": [
    "dataset['AGE'] = abs(dataset['DAYS_BIRTH'] / 365)\n",
    "dataset = dataset.drop(['DAYS_BIRTH'], axis = 1)\n",
    "dataset['DAYS_EMPLOYED'] = dataset['DAYS_EMPLOYED'].replace(365243, np.nan)\n",
    "dataset['DAYS_EMPLOYED'] = abs(dataset['DAYS_EMPLOYED'])\n",
    "dataset['DAYS_REGISTRATION'] = abs(dataset['DAYS_REGISTRATION'])\n",
    "dataset['DAYS_ID_PUBLISH'] = abs(dataset['DAYS_ID_PUBLISH'])\n",
    "dataset['DAYS_LAST_PHONE_CHANGE'] = abs(dataset['DAYS_LAST_PHONE_CHANGE'])"
   ]
  },
  {
   "cell_type": "code",
   "execution_count": 7,
   "metadata": {},
   "outputs": [],
   "source": [
    "bureau_df = pd.read_csv('bureau_merge.csv')\n",
    "previous_df = pd.read_csv('previous_merge.csv')"
   ]
  },
  {
   "cell_type": "code",
   "execution_count": 8,
   "metadata": {},
   "outputs": [],
   "source": [
    "add_b_df = pd.merge(dataset, bureau_df, on = 'SK_ID_CURR', how = 'left')\n",
    "add_p_df = pd.merge(dataset, previous_df, on = 'SK_ID_CURR', how = 'left')\n",
    "total_df = pd.merge(add_b_df, previous_df, on = 'SK_ID_CURR', how = 'left')"
   ]
  },
  {
   "cell_type": "code",
   "execution_count": 9,
   "metadata": {},
   "outputs": [],
   "source": [
    "add_b_df.to_csv('app_bureau_merge.csv')\n",
    "add_p_df.to_csv('app_previous_merge.csv')\n",
    "total_df.to_csv('total_merge.csv')"
   ]
  }
 ],
 "metadata": {
  "interpreter": {
   "hash": "73407dee87cc73a13fe6a424f5d316f883ddf267c66cfaad22110334c7428349"
  },
  "kernelspec": {
   "display_name": "Python 3.8.12 ('dev_project')",
   "language": "python",
   "name": "python3"
  },
  "language_info": {
   "codemirror_mode": {
    "name": "ipython",
    "version": 3
   },
   "file_extension": ".py",
   "mimetype": "text/x-python",
   "name": "python",
   "nbconvert_exporter": "python",
   "pygments_lexer": "ipython3",
   "version": "3.8.12"
  },
  "orig_nbformat": 4
 },
 "nbformat": 4,
 "nbformat_minor": 2
}
